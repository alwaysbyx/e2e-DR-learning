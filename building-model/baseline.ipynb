{
 "cells": [
  {
   "cell_type": "code",
   "execution_count": 1,
   "metadata": {},
   "outputs": [
    {
     "name": "stdout",
     "output_type": "stream",
     "text": [
      "Using matplotlib backend: MacOSX\n"
     ]
    }
   ],
   "source": [
    "import numpy as np\n",
    "import cvxpy as cp\n",
    "import matplotlib.pyplot as plt\n",
    "import pylab\n",
    "from plotly.subplots import make_subplots\n",
    "from tqdm import tqdm\n",
    "%matplotlib auto\n",
    "%config InlineBackend.figure_format = 'retina'\n",
    "import random\n",
    "import time\n",
    "import torch\n",
    "import torch.nn as nn\n",
    "import torch.autograd as autograd\n",
    "import torch.optim as optim\n",
    "import torch.nn.functional as F\n",
    "from numpy import linalg \n",
    "from itertools import accumulate\n",
    "import cvxpy as cp\n",
    "import plotly.graph_objects as go\n",
    "from sklearn.metrics import mean_squared_error\n",
    "import scipy.io as scio\n",
    "import numpy as np\n",
    "import pandas as pd\n",
    "import torch\n",
    "from cvxpylayers.torch import CvxpyLayer\n",
    "import plotly.graph_objects as go\n",
    "\n",
    "amb_data = np.array(pd.read_excel('input_data_pool.xlsx',sheet_name='theta_amb')['theta_amb'])\n",
    "price_data = np.array(pd.read_excel('input_data_pool.xlsx',sheet_name='price')['price'])"
   ]
  },
  {
   "cell_type": "code",
   "execution_count": 64,
   "metadata": {},
   "outputs": [
    {
     "name": "stdout",
     "output_type": "stream",
     "text": [
      "Net(\n",
      "  (fc1): Linear(in_features=48, out_features=24, bias=True)\n",
      "  (fc2): Linear(in_features=24, out_features=24, bias=True)\n",
      ")\n"
     ]
    }
   ],
   "source": [
    "import torch\n",
    "import torch.nn as nn\n",
    "import torch.nn.functional as F\n",
    "\n",
    "\n",
    "class Net(nn.Module):\n",
    "\n",
    "    def __init__(self, d0=24*2, d1 = 24):\n",
    "        super(Net, self).__init__()\n",
    "\n",
    "        self.fc1 = nn.Linear(d0, d1)\n",
    "        self.fc2 = nn.Linear(d1, d1)\n",
    "\n",
    "    def forward(self, x):\n",
    "        x = self.fc1(x)\n",
    "        x = F.relu(x)\n",
    "        x = self.fc2(x)\n",
    "        return x\n",
    "\n",
    "net = Net()\n",
    "print(net)"
   ]
  },
  {
   "cell_type": "code",
   "execution_count": 68,
   "metadata": {},
   "outputs": [],
   "source": [
    "input_price = torch.tensor(price_data[:24*5]).reshape(5,24)\n",
    "input_amb = torch.tensor(amb_data[:24*5]).reshape(5,24)\n",
    "input_tensor = torch.concat([input_price,input_amb],dim=1).to(torch.float32)\n",
    "output_tensor = true[0].reshape(5,24).to(torch.float32)\n",
    "\n",
    "def train(iters):\n",
    "    layer = Net()\n",
    "    \n",
    "    results = []\n",
    "    show = True\n",
    "    optimizer = torch.optim.Adam(layer.parameters(), lr=0.1)\n",
    "    for i in range(iters):\n",
    "        torch.manual_seed(1)\n",
    "        np.random.seed(1)\n",
    "               \n",
    "        pred = layer(input_tensor)        \n",
    "        loss = nn.MSELoss()(output_tensor ,pred)\n",
    "        \n",
    "        optimizer.zero_grad()\n",
    "        loss.backward()\n",
    "        optimizer.step()\n",
    "        \n",
    "        results.append(loss.item())\n",
    "        if i % 100==0: print(\"(iter %d) loss: %g \" % (i, results[-1]))\n",
    "        #if i % 100 == 1: print(variables)\n",
    "        if i == 50:\n",
    "            optimizer.param_groups[0][\"lr\"] = 0.05\n",
    "        if show:\n",
    "            im = plt.plot(results,color='gray')\n",
    "            anno = plt.annotate(f'step:{i}\\n loss={loss}', xy=(0.85, 0.9), xycoords='axes fraction',color='black')\n",
    "            plt.axis(\"equal\")\n",
    "            plt.pause(0.001)\n",
    "            anno.remove()\n",
    "        \n",
    "    return layer\n"
   ]
  },
  {
   "cell_type": "code",
   "execution_count": 69,
   "metadata": {},
   "outputs": [
    {
     "name": "stdout",
     "output_type": "stream",
     "text": [
      "(iter 0) loss: 12.1344 \n",
      "(iter 100) loss: 0.239375 \n",
      "(iter 200) loss: 0.23935 \n",
      "(iter 300) loss: 0.23935 \n",
      "(iter 400) loss: 0.23935 \n"
     ]
    }
   ],
   "source": [
    "model = train(500)"
   ]
  },
  {
   "cell_type": "code",
   "execution_count": 73,
   "metadata": {},
   "outputs": [
    {
     "data": {
      "text/plain": [
       "array([ 6.6942090e-01,  1.6431214e-01,  2.0906754e-01,  4.9845584e-02,\n",
       "        1.5641318e-01,  7.1646237e-01,  1.0169713e-12,  9.9184968e-02,\n",
       "       -1.9547389e-12,  1.9659850e-01,  5.1256686e-01,  1.2248969e+00,\n",
       "        1.1984836e+00,  1.2354234e+00,  1.4452894e+00,  1.9070957e+00,\n",
       "        1.9169872e+00,  1.7665367e+00,  1.5991712e+00,  1.2514955e+00,\n",
       "        1.5215962e-01, -8.4275821e-13, -2.5093074e-12,  1.1292929e-02],\n",
       "      dtype=float32)"
      ]
     },
     "execution_count": 73,
     "metadata": {},
     "output_type": "execute_result"
    }
   ],
   "source": [
    "test = torch.concat([torch.tensor(price_data[T:T+24]), torch.tensor(amb_data[T:T+24])]).to(torch.float32)\n",
    "model(test).detach().numpy()"
   ]
  },
  {
   "cell_type": "code",
   "execution_count": 63,
   "metadata": {},
   "outputs": [],
   "source": [
    "T = 24*5\n",
    "price = price_data[:T]\n",
    "amb = amb_data[:T]\n",
    "variable = {'pn': 0.02, 'a1': 0.9521839137854551, 'a2': 5.598830495762315, 'a3': 0.2677141616859941, 'max_theta': 20.539969677000002, 'min_theta': 18.670106323, 'max_power': 5.38}\n",
    "pn_value = variable['pn']\n",
    "a1_value = variable['a1']\n",
    "a2_value = variable['a2']\n",
    "max_theta = variable['max_theta']\n",
    "min_theta = variable['min_theta']\n",
    "max_power = variable['max_power']\n",
    "theta_0 = 21.64671372\n",
    "true = solve(price, amb, T, pn_value, a1_value, a2_value, max_theta, min_theta, max_power,theta_0, tensor=True)"
   ]
  },
  {
   "cell_type": "code",
   "execution_count": 4,
   "metadata": {},
   "outputs": [],
   "source": [
    "def solve(price, amb, T, pn, a1, a2, max_theta, min_theta, max_power, theta_0, tensor=False):\n",
    "    p = cp.Variable(T)\n",
    "    y = cp.Variable(T)\n",
    "    theta = cp.Variable(T)\n",
    "    obj = price@p + pn * cp.sum_squares(y)\n",
    "    cons = [y >= 0, p >= 0]\n",
    "    for i in range(T):\n",
    "        if i == 0:\n",
    "            cons.append(theta[i] == a1*theta_0 + (1-a1)*(amb[i] - a2*p[i]))\n",
    "        else:\n",
    "            cons.append(theta[i] == a1*theta[i-1] + (1-a1)*(amb[i] - a2*p[i]))\n",
    "        cons.append(p[i] <= max_power)\n",
    "        cons.append(theta[i] <= max_theta + y[i])\n",
    "        cons.append(theta[i] >= min_theta - y[i])\n",
    "    problem = cp.Problem(cp.Minimize(obj), cons)\n",
    "    problem.solve()\n",
    "    if tensor:\n",
    "        return torch.tensor(p.value),torch.tensor(theta.value),torch.tensor(y.value)\n",
    "    return p.value, theta.value, y.value"
   ]
  }
 ],
 "metadata": {
  "kernelspec": {
   "display_name": "Python 3",
   "language": "python",
   "name": "python3"
  },
  "language_info": {
   "codemirror_mode": {
    "name": "ipython",
    "version": 3
   },
   "file_extension": ".py",
   "mimetype": "text/x-python",
   "name": "python",
   "nbconvert_exporter": "python",
   "pygments_lexer": "ipython3",
   "version": "3.8.3"
  }
 },
 "nbformat": 4,
 "nbformat_minor": 4
}
