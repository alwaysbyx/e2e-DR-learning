{
 "cells": [
  {
   "cell_type": "code",
   "execution_count": 1,
   "metadata": {},
   "outputs": [],
   "source": [
    "import numpy as np\n",
    "import pandas as pd"
   ]
  },
  {
   "cell_type": "code",
   "execution_count": 10,
   "metadata": {},
   "outputs": [
    {
     "data": {
      "text/html": [
       "<div>\n",
       "<style scoped>\n",
       "    .dataframe tbody tr th:only-of-type {\n",
       "        vertical-align: middle;\n",
       "    }\n",
       "\n",
       "    .dataframe tbody tr th {\n",
       "        vertical-align: top;\n",
       "    }\n",
       "\n",
       "    .dataframe thead th {\n",
       "        text-align: right;\n",
       "    }\n",
       "</style>\n",
       "<table border=\"1\" class=\"dataframe\">\n",
       "  <thead>\n",
       "    <tr style=\"text-align: right;\">\n",
       "      <th></th>\n",
       "      <th>Unnamed: 0</th>\n",
       "      <th>pn</th>\n",
       "      <th>a1</th>\n",
       "      <th>a3</th>\n",
       "      <th>max_t</th>\n",
       "      <th>min_t</th>\n",
       "      <th>max_p</th>\n",
       "    </tr>\n",
       "  </thead>\n",
       "  <tbody>\n",
       "    <tr>\n",
       "      <th>count</th>\n",
       "      <td>10.00000</td>\n",
       "      <td>10.000000</td>\n",
       "      <td>1.000000e+01</td>\n",
       "      <td>10.000000</td>\n",
       "      <td>10.000000</td>\n",
       "      <td>10.000000</td>\n",
       "      <td>10.000000</td>\n",
       "    </tr>\n",
       "    <tr>\n",
       "      <th>mean</th>\n",
       "      <td>4.50000</td>\n",
       "      <td>0.205344</td>\n",
       "      <td>6.510423e-03</td>\n",
       "      <td>0.118840</td>\n",
       "      <td>0.006724</td>\n",
       "      <td>0.029590</td>\n",
       "      <td>0.313777</td>\n",
       "    </tr>\n",
       "    <tr>\n",
       "      <th>std</th>\n",
       "      <td>3.02765</td>\n",
       "      <td>0.254042</td>\n",
       "      <td>8.037685e-03</td>\n",
       "      <td>0.147633</td>\n",
       "      <td>0.008280</td>\n",
       "      <td>0.017784</td>\n",
       "      <td>0.188592</td>\n",
       "    </tr>\n",
       "    <tr>\n",
       "      <th>min</th>\n",
       "      <td>0.00000</td>\n",
       "      <td>0.000042</td>\n",
       "      <td>3.358110e-07</td>\n",
       "      <td>0.000032</td>\n",
       "      <td>0.000003</td>\n",
       "      <td>0.007666</td>\n",
       "      <td>0.004403</td>\n",
       "    </tr>\n",
       "    <tr>\n",
       "      <th>25%</th>\n",
       "      <td>2.25000</td>\n",
       "      <td>0.000642</td>\n",
       "      <td>1.251029e-05</td>\n",
       "      <td>0.000940</td>\n",
       "      <td>0.000011</td>\n",
       "      <td>0.014221</td>\n",
       "      <td>0.153543</td>\n",
       "    </tr>\n",
       "    <tr>\n",
       "      <th>50%</th>\n",
       "      <td>4.50000</td>\n",
       "      <td>0.025872</td>\n",
       "      <td>9.756726e-04</td>\n",
       "      <td>0.014640</td>\n",
       "      <td>0.001159</td>\n",
       "      <td>0.027833</td>\n",
       "      <td>0.344151</td>\n",
       "    </tr>\n",
       "    <tr>\n",
       "      <th>75%</th>\n",
       "      <td>6.75000</td>\n",
       "      <td>0.500000</td>\n",
       "      <td>1.504372e-02</td>\n",
       "      <td>0.275067</td>\n",
       "      <td>0.015363</td>\n",
       "      <td>0.042561</td>\n",
       "      <td>0.472653</td>\n",
       "    </tr>\n",
       "    <tr>\n",
       "      <th>max</th>\n",
       "      <td>9.00000</td>\n",
       "      <td>0.500000</td>\n",
       "      <td>1.717571e-02</td>\n",
       "      <td>0.328837</td>\n",
       "      <td>0.018205</td>\n",
       "      <td>0.060093</td>\n",
       "      <td>0.571350</td>\n",
       "    </tr>\n",
       "  </tbody>\n",
       "</table>\n",
       "</div>"
      ],
      "text/plain": [
       "       Unnamed: 0         pn            a1         a3      max_t      min_t  \\\n",
       "count    10.00000  10.000000  1.000000e+01  10.000000  10.000000  10.000000   \n",
       "mean      4.50000   0.205344  6.510423e-03   0.118840   0.006724   0.029590   \n",
       "std       3.02765   0.254042  8.037685e-03   0.147633   0.008280   0.017784   \n",
       "min       0.00000   0.000042  3.358110e-07   0.000032   0.000003   0.007666   \n",
       "25%       2.25000   0.000642  1.251029e-05   0.000940   0.000011   0.014221   \n",
       "50%       4.50000   0.025872  9.756726e-04   0.014640   0.001159   0.027833   \n",
       "75%       6.75000   0.500000  1.504372e-02   0.275067   0.015363   0.042561   \n",
       "max       9.00000   0.500000  1.717571e-02   0.328837   0.018205   0.060093   \n",
       "\n",
       "           max_p  \n",
       "count  10.000000  \n",
       "mean    0.313777  \n",
       "std     0.188592  \n",
       "min     0.004403  \n",
       "25%     0.153543  \n",
       "50%     0.344151  \n",
       "75%     0.472653  \n",
       "max     0.571350  "
      ]
     },
     "execution_count": 10,
     "metadata": {},
     "output_type": "execute_result"
    }
   ],
   "source": [
    "file = pd.read_csv('opt1_seed1_04111639.csv')\n",
    "file = abs(file[-10:])\n",
    "file.describe()"
   ]
  },
  {
   "cell_type": "code",
   "execution_count": 12,
   "metadata": {},
   "outputs": [
    {
     "data": {
      "text/plain": [
       "Unnamed: 0    7.200000\n",
       "pn            0.500000\n",
       "a1            0.015623\n",
       "a3            0.279935\n",
       "max_t         0.016151\n",
       "min_t         0.043704\n",
       "max_p         0.480418\n",
       "Name: 0.8, dtype: float64"
      ]
     },
     "execution_count": 12,
     "metadata": {},
     "output_type": "execute_result"
    }
   ],
   "source": [
    "file.quantile(0.8)"
   ]
  }
 ],
 "metadata": {
  "interpreter": {
   "hash": "5cc9548c05a244386a6d3194fd4ce0daff846e301aca00a00f7a9d28040987a3"
  },
  "kernelspec": {
   "display_name": "Python 3.8.13 64-bit ('dr': conda)",
   "name": "python3"
  },
  "language_info": {
   "codemirror_mode": {
    "name": "ipython",
    "version": 3
   },
   "file_extension": ".py",
   "mimetype": "text/x-python",
   "name": "python",
   "nbconvert_exporter": "python",
   "pygments_lexer": "ipython3",
   "version": "3.8.13"
  },
  "orig_nbformat": 4
 },
 "nbformat": 4,
 "nbformat_minor": 2
}
